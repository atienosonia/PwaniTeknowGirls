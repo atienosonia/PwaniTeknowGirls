{
  "nbformat": 4,
  "nbformat_minor": 0,
  "metadata": {
    "colab": {
      "provenance": []
    },
    "kernelspec": {
      "name": "python3",
      "display_name": "Python 3"
    },
    "language_info": {
      "name": "python"
    }
  },
  "cells": [
    {
      "cell_type": "markdown",
      "source": [
        "# <font color='orange'> To use this notebook on Google Colaboratory, you will need to make a copy of it. Go to File > Save a copy in Drive. You can then use the new copy that will appear in the drive </font>"
      ],
      "metadata": {
        "id": "9CkxhGM375j4"
      }
    },
    {
      "cell_type": "markdown",
      "source": [
        "## **Python Basics for Data Science**"
      ],
      "metadata": {
        "id": "dmt2Vl2X8Fji"
      }
    },
    {
      "cell_type": "markdown",
      "source": [
        "### Comments, Variables, and Printing"
      ],
      "metadata": {
        "id": "qQC88-nf9QU5"
      }
    },
    {
      "cell_type": "markdown",
      "source": [
        "#### Comments"
      ],
      "metadata": {
        "id": "UuzIOjfCGiF7"
      }
    },
    {
      "cell_type": "markdown",
      "source": [
        "**Comments** are simple notes used in our code to provide explanatory information about our code. Used to explain complex code."
      ],
      "metadata": {
        "id": "SPYA4G2jGtpm"
      }
    },
    {
      "cell_type": "markdown",
      "source": [
        "##### <font color=\"blue\">Example</font>"
      ],
      "metadata": {
        "id": "3dGt1im9HWAU"
      }
    },
    {
      "cell_type": "markdown",
      "source": [
        "##### <font color=\"blue\"> Example 1 </font>"
      ],
      "metadata": {
        "id": "5C6luzx5Has6"
      }
    },
    {
      "cell_type": "code",
      "source": [
        "# the following variable stores the value 57\n",
        "\n",
        "score = 57"
      ],
      "metadata": {
        "id": "pzrAIoybHNF1"
      },
      "execution_count": null,
      "outputs": []
    },
    {
      "cell_type": "markdown",
      "source": [
        "#### Variable"
      ],
      "metadata": {
        "id": "oFDQ9u0I96pV"
      }
    },
    {
      "cell_type": "markdown",
      "source": [
        "A **python variable** is a reserved memory location in a computer that can be used to store values. Used to temporarily store information before its executed."
      ],
      "metadata": {
        "id": "jh7VqiIp-AvL"
      }
    },
    {
      "cell_type": "markdown",
      "source": [
        "##### <font color=\"blue\">Examples</font>"
      ],
      "metadata": {
        "id": "TgL5HFMv_zf2"
      }
    },
    {
      "cell_type": "markdown",
      "source": [
        "##### <font color=\"blue\"> Example 1 </font>"
      ],
      "metadata": {
        "id": "T3ZXfnLyANMV"
      }
    },
    {
      "cell_type": "code",
      "source": [
        "# Example 1\n",
        "# -------\n",
        "# Assign the value 20 to a variable named age\n",
        "# -------\n",
        "# OUR CODE GOES BELOW\n",
        "# -------\n",
        "age = 20"
      ],
      "metadata": {
        "id": "lvlUdpKOAZ-R"
      },
      "execution_count": null,
      "outputs": []
    },
    {
      "cell_type": "markdown",
      "source": [
        "##### <font color=\"blue\"> Example 2 </font>"
      ],
      "metadata": {
        "id": "2KnnolOWBDEv"
      }
    },
    {
      "cell_type": "code",
      "source": [
        "# Example 2\n",
        "# -------\n",
        "# Again ! Let's assign the value \"Mombasa\" to a variable called city\n",
        "# -------\n",
        "# OUR CODE GOES BELOW\n",
        "# -------\n",
        "city = \"Mombasa\""
      ],
      "metadata": {
        "id": "1xhiZrO7BPHO"
      },
      "execution_count": null,
      "outputs": []
    },
    {
      "cell_type": "markdown",
      "source": [
        "##### <font color=\"blue\"> Example 3 </font>"
      ],
      "metadata": {
        "id": "7ZMS1ZthBrVf"
      }
    },
    {
      "cell_type": "code",
      "source": [
        "# Example 3\n",
        "# -------\n",
        "# One more time ! Let's assign a value that contains a list of fruits to a variable called favorite_fruits\n",
        "# -------\n",
        "# OUR CODE GOES BELOW\n",
        "# -------\n",
        "favorite_fruits = ['mangoes', 'apples', 'oranges', 'bananas']"
      ],
      "metadata": {
        "id": "DKrwpREdBqUA"
      },
      "execution_count": null,
      "outputs": []
    },
    {
      "cell_type": "markdown",
      "source": [
        "#### Printing"
      ],
      "metadata": {
        "id": "OaTfZtczDCOj"
      }
    },
    {
      "cell_type": "markdown",
      "source": [
        "The **print()** function prints the specified message to the screen. Used to reveal what is stored in a variable."
      ],
      "metadata": {
        "id": "T0rE1AbtDrte"
      }
    },
    {
      "cell_type": "markdown",
      "source": [
        "##### <font color=\"blue\">Examples</font>"
      ],
      "metadata": {
        "id": "KLd-UF1bEBLu"
      }
    },
    {
      "cell_type": "markdown",
      "source": [
        "##### <font color=\"blue\"> Example 1 </font>"
      ],
      "metadata": {
        "id": "RSy5izQ0EEf3"
      }
    },
    {
      "cell_type": "code",
      "source": [
        "# Example 1\n",
        "# -------\n",
        "# Question : Print the text \"Hello World\" in the output console of this text\n",
        "# -------\n",
        "# OUR CODE GOES BELOW\n",
        "# -------\n",
        "print(\"Hello World!\")"
      ],
      "metadata": {
        "id": "eYTRCPOTEa3m",
        "colab": {
          "base_uri": "https://localhost:8080/"
        },
        "outputId": "432f32e1-08d1-4b5d-e652-46566e6fd5f3"
      },
      "execution_count": null,
      "outputs": [
        {
          "output_type": "stream",
          "name": "stdout",
          "text": [
            "Hello World!\n"
          ]
        }
      ]
    },
    {
      "cell_type": "markdown",
      "source": [
        "##### <font color=\"blue\"> Example 2 </font>"
      ],
      "metadata": {
        "id": "MAEk3jYdE_QW"
      }
    },
    {
      "cell_type": "code",
      "source": [
        "# Example 2\n",
        "# -------\n",
        "# Question : Print the text \"Hello Amina\" with a hyphen as a separator\n",
        "# -------\n",
        "# OUR CODE GOES BELOW\n",
        "# -------\n",
        "print(\"Hello\", \"Amina\", sep = \"-\")"
      ],
      "metadata": {
        "id": "wIsVk5OKFBXN",
        "colab": {
          "base_uri": "https://localhost:8080/"
        },
        "outputId": "5469c24a-916d-4339-ef17-945bc709ef4d"
      },
      "execution_count": null,
      "outputs": [
        {
          "output_type": "stream",
          "name": "stdout",
          "text": [
            "Hello-Amina\n"
          ]
        }
      ]
    },
    {
      "cell_type": "markdown",
      "source": [
        "#### Arithmetic Operations"
      ],
      "metadata": {
        "id": "qJZZKtwsHhkX"
      }
    },
    {
      "cell_type": "markdown",
      "source": [
        "Uses **Arithmetic Operators** to perform calculations. Arithmetic Operators are a set of mathematical symbols or functions used in programming to perform calculations on one or more values."
      ],
      "metadata": {
        "id": "9Mm_MUT4Hsxc"
      }
    },
    {
      "cell_type": "markdown",
      "source": [
        "##### <font color=\"blue\">Examples</font>"
      ],
      "metadata": {
        "id": "9kt3IKGwIB10"
      }
    },
    {
      "cell_type": "markdown",
      "source": [
        "##### <font color=\"blue\"> Example 1 </font>"
      ],
      "metadata": {
        "id": "HZALuNj8NGJ4"
      }
    },
    {
      "cell_type": "code",
      "source": [
        "# Example 1\n",
        "# --------\n",
        "# Declare our variables\n",
        "\n",
        "a = 90\n",
        "\n",
        "b = 10\n",
        "\n",
        "# Addition\n",
        "\n",
        "c = a + b\n",
        "\n",
        "# print out the results\n",
        "\n",
        "print(c)"
      ],
      "metadata": {
        "colab": {
          "base_uri": "https://localhost:8080/"
        },
        "id": "ZE_pb8ZyG3W8",
        "outputId": "e4e6a4bb-0f92-48bf-d480-4aecc1e8d075"
      },
      "execution_count": null,
      "outputs": [
        {
          "output_type": "stream",
          "name": "stdout",
          "text": [
            "100\n"
          ]
        }
      ]
    },
    {
      "cell_type": "markdown",
      "source": [
        "##### <font color=\"blue\"> Example 2</font>"
      ],
      "metadata": {
        "id": "YmHfmmThOPkl"
      }
    },
    {
      "cell_type": "code",
      "source": [
        "# Example 2\n",
        "# -------\n",
        "# We can perform a division operation below\n",
        "# -------\n",
        "d = a / b\n",
        "\n",
        "# print out  the results\n",
        "\n",
        "print(d)"
      ],
      "metadata": {
        "colab": {
          "base_uri": "https://localhost:8080/"
        },
        "id": "WKLIBThBNg_p",
        "outputId": "dfbaa9dc-8893-47d3-986a-c53f27aafd14"
      },
      "execution_count": null,
      "outputs": [
        {
          "output_type": "stream",
          "name": "stdout",
          "text": [
            "9.0\n"
          ]
        }
      ]
    },
    {
      "cell_type": "markdown",
      "source": [
        "#### Data Types"
      ],
      "metadata": {
        "id": "fJxoSPdSOd-B"
      }
    },
    {
      "cell_type": "markdown",
      "source": [
        "A **data type** is a classification that allows an individual to specify which type of value a variable contains. It defines the operations that can be done on the data and how the data can be stored.\n",
        "\n",
        "- **Integer** value is a whole number which can either be positive or negative i.e -55 or 80\n",
        "\n",
        "- **String** value is a sequence of characters. Strings are contained in either single or double quotes i.e \"Jane\" or 'Zahra'\n",
        "\n",
        "- **Float** value is a whole number with a floating-point presentation i.e 55.60 or 20.45"
      ],
      "metadata": {
        "id": "6Lh5agUcOj39"
      }
    },
    {
      "cell_type": "markdown",
      "source": [
        "##### <font color=\"blue\">Examples</font>"
      ],
      "metadata": {
        "id": "03hg0nMsQm8W"
      }
    },
    {
      "cell_type": "markdown",
      "source": [
        "##### <font color=\"blue\">Example 1</font>"
      ],
      "metadata": {
        "id": "fCgErJKvQ6h9"
      }
    },
    {
      "cell_type": "code",
      "source": [
        "# Example 1\n",
        "# -------\n",
        "# Dynamically-inferred data types\n",
        "# -------\n",
        "\n",
        "# integer data type\n",
        "\n",
        "x = 50\n",
        "\n",
        "print(type(x))\n",
        "\n",
        "# string data type\n",
        "\n",
        "planet = \"Earth\"\n",
        "\n",
        "print(type(planet))\n",
        "\n",
        "# float data type\n",
        "\n",
        "y = 90.00\n",
        "\n",
        "print(type(y))\n"
      ],
      "metadata": {
        "colab": {
          "base_uri": "https://localhost:8080/"
        },
        "id": "sKNIRywROCfK",
        "outputId": "7d55dbae-ae70-4566-fca6-3f458c8f0dad"
      },
      "execution_count": null,
      "outputs": [
        {
          "output_type": "stream",
          "name": "stdout",
          "text": [
            "<class 'int'>\n",
            "<class 'str'>\n",
            "<class 'float'>\n"
          ]
        }
      ]
    },
    {
      "cell_type": "markdown",
      "source": [
        "##### <font color=\"blue\">Example 2</font>"
      ],
      "metadata": {
        "id": "pXD8QZLFSzJo"
      }
    },
    {
      "cell_type": "code",
      "source": [
        "# Example 2\n",
        "# -------\n",
        "# Adding a value of integer data type to a value of string data type\n",
        "\n",
        "x = 30\n",
        "\n",
        "y = '10'\n",
        "\n",
        "# convert the string value stored in variable y to an integer using int()\n",
        "# then, add the integer value in x to the result\n",
        "# print out the result\n",
        "\n",
        "print(x + int(y))"
      ],
      "metadata": {
        "colab": {
          "base_uri": "https://localhost:8080/"
        },
        "id": "tQMmNNvzSyTy",
        "outputId": "a88df11f-4b92-4679-8478-798846134652"
      },
      "execution_count": null,
      "outputs": [
        {
          "output_type": "stream",
          "name": "stdout",
          "text": [
            "40\n"
          ]
        }
      ]
    },
    {
      "cell_type": "markdown",
      "source": [
        "##### <font color=\"blue\">Example 3</font>"
      ],
      "metadata": {
        "id": "2Gz_CaVHTZZl"
      }
    },
    {
      "cell_type": "code",
      "source": [
        "# Example 3\n",
        "# -------\n",
        "# Dividing integers results to a float\n",
        "# -------\n",
        "\n",
        "a = 40\n",
        "b = 5\n",
        "\n",
        "print(a/b)\n",
        "print(b/a)"
      ],
      "metadata": {
        "colab": {
          "base_uri": "https://localhost:8080/"
        },
        "id": "Sbw1rq-USsf8",
        "outputId": "11241b1d-79db-4c12-cc22-bb099c97a438"
      },
      "execution_count": null,
      "outputs": [
        {
          "output_type": "stream",
          "name": "stdout",
          "text": [
            "8.0\n",
            "0.125\n"
          ]
        }
      ]
    },
    {
      "cell_type": "markdown",
      "source": [
        "#### Lists"
      ],
      "metadata": {
        "id": "MJPjBOlZUMFI"
      }
    },
    {
      "cell_type": "markdown",
      "source": [
        "A **list** is a compound data type that allows for the storage of items of different data types. We use lists to store a set of related data."
      ],
      "metadata": {
        "id": "vs3iFaTBUOdP"
      }
    },
    {
      "cell_type": "markdown",
      "source": [
        "##### <font color=\"blue\">Examples</font>"
      ],
      "metadata": {
        "id": "9huWubO3VPU-"
      }
    },
    {
      "cell_type": "markdown",
      "source": [
        "##### <font color=\"blue\">Example 1 </font>"
      ],
      "metadata": {
        "id": "A46dTZOAVUoP"
      }
    },
    {
      "cell_type": "code",
      "source": [
        "# Example 1\n",
        "# -------\n",
        "# Question : Create a list named fish and store it with values of different types of fish\n",
        "# ------\n",
        "# Defining our list\n",
        "# -------\n",
        "fish = ['salmon', 'starfish', 'tilapia', 'sword fish']\n",
        "\n",
        "# print the results\n",
        "\n",
        "print(fish)"
      ],
      "metadata": {
        "colab": {
          "base_uri": "https://localhost:8080/"
        },
        "id": "TrO-fA2NT8gz",
        "outputId": "566e4fe3-130d-4697-bc94-b2f5223200c5"
      },
      "execution_count": null,
      "outputs": [
        {
          "output_type": "stream",
          "name": "stdout",
          "text": [
            "['salmon', 'starfish', 'tilapia', 'sword fish']\n"
          ]
        }
      ]
    },
    {
      "cell_type": "markdown",
      "source": [
        "##### <font color=\"blue\">Example 2</font>"
      ],
      "metadata": {
        "id": "QEql79fvW4wf"
      }
    },
    {
      "cell_type": "code",
      "source": [
        "# Example 2\n",
        "# -------\n",
        "# Question : Add elements to a list\n",
        "# -------\n",
        "# Adding the fish \"gold fish\" to our fish list\n",
        "\n",
        "fish.append('gold fish')\n",
        "\n",
        "# print out the result\n",
        "\n",
        "print(fish)\n"
      ],
      "metadata": {
        "colab": {
          "base_uri": "https://localhost:8080/"
        },
        "id": "SUOXcAdtXAIe",
        "outputId": "dc990963-eeab-4f93-cf96-770fa64ee998"
      },
      "execution_count": null,
      "outputs": [
        {
          "output_type": "stream",
          "name": "stdout",
          "text": [
            "['salmon', 'starfish', 'tilapia', 'sword fish', 'gold fish']\n"
          ]
        }
      ]
    },
    {
      "cell_type": "markdown",
      "source": [
        "##### <font color=\"blue\">Example 3</font>"
      ],
      "metadata": {
        "id": "HuNLgEJ_YLcg"
      }
    },
    {
      "cell_type": "code",
      "source": [
        "# Example 3\n",
        "# -------\n",
        "# Question : Updating an element in a list\n",
        "# -------\n",
        "fish[2] = 'nile perch'\n",
        "\n",
        "# print out the result\n",
        "print(fish)"
      ],
      "metadata": {
        "colab": {
          "base_uri": "https://localhost:8080/"
        },
        "id": "rN022xEKXv_f",
        "outputId": "8dab2e6b-5150-4f37-830b-6862ad8faf77"
      },
      "execution_count": null,
      "outputs": [
        {
          "output_type": "stream",
          "name": "stdout",
          "text": [
            "['salmon', 'starfish', 'nile perch', 'sword fish', 'gold fish']\n"
          ]
        }
      ]
    },
    {
      "cell_type": "markdown",
      "source": [
        "##### <font color=\"blue\">Example 4</font>"
      ],
      "metadata": {
        "id": "f9AjywyfYPgo"
      }
    },
    {
      "cell_type": "code",
      "source": [
        "# Example 4\n",
        "# -------\n",
        "# Question : Remove an element from a list\n",
        "# ----\n",
        "fish.remove('salmon')\n",
        "\n",
        "# print out the result\n",
        "\n",
        "print(fish)"
      ],
      "metadata": {
        "colab": {
          "base_uri": "https://localhost:8080/"
        },
        "id": "Y8dUWeBZYFqt",
        "outputId": "7f8d3fb8-857a-42b0-882d-8b2e421b9bfb"
      },
      "execution_count": null,
      "outputs": [
        {
          "output_type": "stream",
          "name": "stdout",
          "text": [
            "['starfish', 'nile perch', 'sword fish', 'gold fish']\n"
          ]
        }
      ]
    },
    {
      "cell_type": "markdown",
      "source": [
        "##### <font color=\"blue\">Example 5</font>"
      ],
      "metadata": {
        "id": "NEe2VFv3Ytnv"
      }
    },
    {
      "cell_type": "code",
      "source": [
        "# Example 5\n",
        "# -------\n",
        "# Question : Slice the restaurant list to fetch specific elements in a list\n",
        "# -------\n",
        "# Getting the first element in the list shown below\n",
        "\n",
        "print(fish[0])\n",
        "\n",
        "# Getting the first two elements in the list shown below\n",
        "\n",
        "print(fish[0:2])"
      ],
      "metadata": {
        "colab": {
          "base_uri": "https://localhost:8080/"
        },
        "id": "ncEqTYFvYinH",
        "outputId": "84f129a4-e42b-4b75-b969-90e71a3516eb"
      },
      "execution_count": null,
      "outputs": [
        {
          "output_type": "stream",
          "name": "stdout",
          "text": [
            "starfish\n",
            "['starfish', 'nile perch']\n"
          ]
        }
      ]
    },
    {
      "cell_type": "markdown",
      "source": [
        "#### Sets"
      ],
      "metadata": {
        "id": "s3D7K1M5SggB"
      }
    },
    {
      "cell_type": "markdown",
      "source": [
        "A **python set** is an unordered collection of data types that has no duplicate elements."
      ],
      "metadata": {
        "id": "pI5lliRuSpWe"
      }
    },
    {
      "cell_type": "markdown",
      "source": [
        "##### <font color=\"blue\">Examples</font>"
      ],
      "metadata": {
        "id": "OzjQZSl6TpQt"
      }
    },
    {
      "cell_type": "markdown",
      "source": [
        "##### <font color=\"blue\">Example 1</font>"
      ],
      "metadata": {
        "id": "OV-rJgP-Ty3L"
      }
    },
    {
      "cell_type": "code",
      "source": [
        "# Example 1\n",
        "# -------\n",
        "# create a set of planets\n",
        "# add planet Jupiter to the set twice\n",
        "# -------\n",
        "\n",
        "planets = {'mercury', 'jupiter', 'earth', 'mars', 'uranus', 'pluto', 'jupiter'} # a set is denoted by curly brackets\n",
        "\n",
        "# call the variable planets\n",
        "\n",
        "planets"
      ],
      "metadata": {
        "colab": {
          "base_uri": "https://localhost:8080/"
        },
        "id": "Wd2vt1JnT2nB",
        "outputId": "6b404f66-ff8a-4d51-93e2-d8378be5f732"
      },
      "execution_count": null,
      "outputs": [
        {
          "output_type": "execute_result",
          "data": {
            "text/plain": [
              "{'earth', 'jupiter', 'mars', 'mercury', 'pluto', 'uranus'}"
            ]
          },
          "metadata": {},
          "execution_count": 14
        }
      ]
    },
    {
      "cell_type": "markdown",
      "source": [
        "*Notice that planet jupiter only appears once in the output!*"
      ],
      "metadata": {
        "id": "mmri6PeLV4OD"
      }
    },
    {
      "cell_type": "markdown",
      "source": [
        "##### <font color=\"blue\">Example 2</font>"
      ],
      "metadata": {
        "id": "6w_-6Mp9Vjbp"
      }
    },
    {
      "cell_type": "code",
      "source": [
        "# Example 2\n",
        "# -------\n",
        "# let's create another set of MCU movies\n",
        "# add black widow to the set twice\n",
        "# -------\n",
        "\n",
        "mcu_movie_collection = {'captain america', 'ant man', 'black widow', 'spider man', 'hawkeye', 'black widow'}\n",
        "\n",
        "# call the variable mcu_movie_collection\n",
        "\n",
        "mcu_movie_collection"
      ],
      "metadata": {
        "colab": {
          "base_uri": "https://localhost:8080/"
        },
        "id": "WxojVJYlVoSU",
        "outputId": "482a9705-ae1c-41e2-f31c-b8188235d5bf"
      },
      "execution_count": null,
      "outputs": [
        {
          "output_type": "execute_result",
          "data": {
            "text/plain": [
              "{'ant man', 'black widow', 'captain america', 'hawkeye', 'spider man'}"
            ]
          },
          "metadata": {},
          "execution_count": 7
        }
      ]
    },
    {
      "cell_type": "markdown",
      "source": [
        "*Note: To create an empty set, you have to use the function `set()`, not `{}`, the latter creates an empty dictionary.*\n"
      ],
      "metadata": {
        "id": "TCt0WAIaFXzT"
      }
    },
    {
      "cell_type": "markdown",
      "source": [
        "#### Tuples"
      ],
      "metadata": {
        "id": "B4MfS377G46J"
      }
    },
    {
      "cell_type": "markdown",
      "source": [
        "A **python tuple** is a collection of python objects separated by a comma.Once the elements in a tuple are formed they cannot be changed or modified."
      ],
      "metadata": {
        "id": "UAL4mU_JHS_t"
      }
    },
    {
      "cell_type": "markdown",
      "source": [
        "##### <font color=\"blue\">Examples</font>"
      ],
      "metadata": {
        "id": "6MBh1ITmIbMq"
      }
    },
    {
      "cell_type": "markdown",
      "source": [
        "##### <font color=\"blue\">Example 1 </font>"
      ],
      "metadata": {
        "id": "FqGcijrNIhx9"
      }
    },
    {
      "cell_type": "code",
      "source": [
        "# Example 1\n",
        "# -------\n",
        "# Go ahead and create a tuple that contains a list of the big five animals\n",
        "# -------\n",
        "big_five = ('lion', 'leopard', 'elephant','rhino', 'buffalo')\n",
        "\n",
        "# check the data type\n",
        "\n",
        "type(big_five)"
      ],
      "metadata": {
        "colab": {
          "base_uri": "https://localhost:8080/"
        },
        "id": "FHu_TVeIJGpO",
        "outputId": "573a23a9-437a-4d41-8764-a514f4e9566c"
      },
      "execution_count": null,
      "outputs": [
        {
          "output_type": "execute_result",
          "data": {
            "text/plain": [
              "tuple"
            ]
          },
          "metadata": {},
          "execution_count": 8
        }
      ]
    },
    {
      "cell_type": "markdown",
      "source": [
        "##### <font color=\"blue\">Example 2</font>"
      ],
      "metadata": {
        "id": "itSJi7AnJ0Nh"
      }
    },
    {
      "cell_type": "code",
      "source": [
        "# Example 2\n",
        "# ------\n",
        "# Let's try to change the second element in the tuple to  cheetah\n",
        "# Remember python starts counting from 0\n",
        "# And so the second element in the tuple is leopard\n",
        "\n",
        "big_five[1] = 'cheetah'"
      ],
      "metadata": {
        "colab": {
          "base_uri": "https://localhost:8080/",
          "height": 225
        },
        "id": "5RISDKsZJ28Q",
        "outputId": "8138863c-6ab5-4bdc-85da-d61325b8894d"
      },
      "execution_count": null,
      "outputs": [
        {
          "output_type": "error",
          "ename": "TypeError",
          "evalue": "ignored",
          "traceback": [
            "\u001b[0;31m---------------------------------------------------------------------------\u001b[0m",
            "\u001b[0;31mTypeError\u001b[0m                                 Traceback (most recent call last)",
            "\u001b[0;32m<ipython-input-6-fdf76ecee9b4>\u001b[0m in \u001b[0;36m<cell line: 7>\u001b[0;34m()\u001b[0m\n\u001b[1;32m      5\u001b[0m \u001b[0;31m# And so the second element in the tuple is leopard\u001b[0m\u001b[0;34m\u001b[0m\u001b[0;34m\u001b[0m\u001b[0m\n\u001b[1;32m      6\u001b[0m \u001b[0;34m\u001b[0m\u001b[0m\n\u001b[0;32m----> 7\u001b[0;31m \u001b[0mbig_five\u001b[0m\u001b[0;34m[\u001b[0m\u001b[0;36m1\u001b[0m\u001b[0;34m]\u001b[0m \u001b[0;34m=\u001b[0m \u001b[0;34m'cheetah'\u001b[0m\u001b[0;34m\u001b[0m\u001b[0;34m\u001b[0m\u001b[0m\n\u001b[0m",
            "\u001b[0;31mTypeError\u001b[0m: 'tuple' object does not support item assignment"
          ]
        }
      ]
    },
    {
      "cell_type": "markdown",
      "source": [
        "***The type error occurs because a python tuple is an immutable python object, to mean no changes can be made to it***"
      ],
      "metadata": {
        "id": "4CEtVZSkKYqX"
      }
    },
    {
      "cell_type": "markdown",
      "source": [
        "#### Conditional (If) Statements"
      ],
      "metadata": {
        "id": "MNQoubI5ZQpR"
      }
    },
    {
      "cell_type": "markdown",
      "source": [
        "**Conditional Statements** are used for decision making. They will run code if only a statement is true. In general, we use conditional statements to execute a certain part of code if a condition is satisfied"
      ],
      "metadata": {
        "id": "6vwZDB5fZgi2"
      }
    },
    {
      "cell_type": "markdown",
      "source": [
        "##### <font color=\"blue\">Examples</font>"
      ],
      "metadata": {
        "id": "IfbUEyo6aA3w"
      }
    },
    {
      "cell_type": "markdown",
      "source": [
        "##### <font color=\"blue\">Example 1</font>"
      ],
      "metadata": {
        "id": "wMiv-CA_aJ9Y"
      }
    },
    {
      "cell_type": "code",
      "source": [
        "# Example 1\n",
        "# -------\n",
        "# How do we use the If Key word ?\n",
        "# -------\n",
        "# We first declare our variables\n",
        "\n",
        "a = 40\n",
        "\n",
        "b = 60\n",
        "\n",
        "# The we use the keyword as follows (We need to watchout for the white spaces)\n",
        "\n",
        "if a < b:\n",
        "  print('a is less than b')\n",
        "\n"
      ],
      "metadata": {
        "colab": {
          "base_uri": "https://localhost:8080/"
        },
        "id": "y-1YVm2UaL_T",
        "outputId": "c88df56f-a48a-4f16-fb24-959795fcf242"
      },
      "execution_count": null,
      "outputs": [
        {
          "output_type": "stream",
          "name": "stdout",
          "text": [
            "a is less than b\n"
          ]
        }
      ]
    },
    {
      "cell_type": "markdown",
      "source": [
        "##### <font color=\"blue\">Example 2</font>"
      ],
      "metadata": {
        "id": "V6vs0XxPdXkV"
      }
    },
    {
      "cell_type": "code",
      "source": [
        "# Example 2\n",
        "# -------\n",
        "# Question : How can we use the Elif statement\n",
        "# -------\n",
        "r = 100\n",
        "s = 100\n",
        "\n",
        "p = 500\n",
        "q = 100\n",
        "\n",
        "if s < r :\n",
        "  if q < r :\n",
        "    print('y is less than x')\n",
        "elif r == s:\n",
        "  print(\"r and s are equal\")"
      ],
      "metadata": {
        "colab": {
          "base_uri": "https://localhost:8080/"
        },
        "id": "9VQJg1S6cOOE",
        "outputId": "4640d8bb-7809-44b1-b120-65dd65f53110"
      },
      "execution_count": null,
      "outputs": [
        {
          "output_type": "stream",
          "name": "stdout",
          "text": [
            "r and s are equal\n"
          ]
        }
      ]
    },
    {
      "cell_type": "markdown",
      "source": [
        "##### <font color=\"blue\">Example 3</font>"
      ],
      "metadata": {
        "id": "IbSAQdAAed2w"
      }
    },
    {
      "cell_type": "code",
      "source": [
        "# Example 3\n",
        "# -------\n",
        "# How can we use the Else keyword\n",
        "# -------\n",
        "# Let's go ahead and declare our variables\n",
        "\n",
        "a = 150\n",
        "\n",
        "b = 50\n",
        "\n",
        "if b > a :\n",
        "  print(\"b is greater than a\")\n",
        "elif a == b :\n",
        "  print(\"a is equal to b\")\n",
        "else :\n",
        "  print('b is less than a')\n"
      ],
      "metadata": {
        "colab": {
          "base_uri": "https://localhost:8080/"
        },
        "id": "B2SxlvOyedDc",
        "outputId": "2259154e-b047-4146-d4c4-10c6822269f2"
      },
      "execution_count": null,
      "outputs": [
        {
          "output_type": "stream",
          "name": "stdout",
          "text": [
            "b is less than a\n"
          ]
        }
      ]
    },
    {
      "cell_type": "markdown",
      "source": [
        "#### For Loops"
      ],
      "metadata": {
        "id": "2-UFyYD8fJRj"
      }
    },
    {
      "cell_type": "markdown",
      "source": [
        "A **for loop** in python is primarily used for going through elements of a list one by one. They can also iterate over other sequence such as dictionary, string etc."
      ],
      "metadata": {
        "id": "9NEjT2R-fg6S"
      }
    },
    {
      "cell_type": "markdown",
      "source": [
        "##### <font color=\"blue\">Examples</font>"
      ],
      "metadata": {
        "id": "vdIpB3zWicpc"
      }
    },
    {
      "cell_type": "markdown",
      "source": [
        "##### <font color=\"blue\">Example 1</font>"
      ],
      "metadata": {
        "id": "3rttw_f5igha"
      }
    },
    {
      "cell_type": "code",
      "source": [
        "# Example 1\n",
        "# -------\n",
        "# Question : Use a For Loop to print out each restaurant in your area\n",
        "# -------\n",
        "# Create a list of restaurants\n",
        "# Assign the list to variable restaurants\n",
        "\n",
        "restaurants = [\"Java\", \"Kempinsky\", \"Nairobi's Kitchen\", \"Big Fish\"]\n",
        "\n",
        "# Use a for loop to print each restaurant\n",
        "\n",
        "for restaurant in restaurants:\n",
        "  print(restaurant)\n"
      ],
      "metadata": {
        "colab": {
          "base_uri": "https://localhost:8080/"
        },
        "id": "Q5sJ5V7Zixik",
        "outputId": "bbc9f1ff-a6c9-40c4-e5e9-94d95f9bb974"
      },
      "execution_count": null,
      "outputs": [
        {
          "output_type": "stream",
          "name": "stdout",
          "text": [
            "Java\n",
            "Kempinsky\n",
            "Nairobi's Kitchen\n",
            "Big Fish\n"
          ]
        }
      ]
    },
    {
      "cell_type": "markdown",
      "source": [
        "##### <font color=\"blue\">Example 2</font>"
      ],
      "metadata": {
        "id": "HGa9sUrameF_"
      }
    },
    {
      "cell_type": "code",
      "source": [
        "# Example 2\n",
        "# -------\n",
        "# Question : Use a For Loop to print out each letter in a word\n",
        "# -------\n",
        "# Create a variable named dairy cow which stores a string that contains the name of a dairy cow\n",
        "\n",
        "dairy_cow = 'Freshian'\n",
        "for letter in dairy_cow:\n",
        "  print(letter)"
      ],
      "metadata": {
        "colab": {
          "base_uri": "https://localhost:8080/"
        },
        "id": "KpmvhHsHkRx-",
        "outputId": "9867d330-fef9-4ce6-f228-14cbb86a2c26"
      },
      "execution_count": null,
      "outputs": [
        {
          "output_type": "stream",
          "name": "stdout",
          "text": [
            "F\n",
            "r\n",
            "e\n",
            "s\n",
            "h\n",
            "i\n",
            "a\n",
            "n\n"
          ]
        }
      ]
    },
    {
      "cell_type": "markdown",
      "source": [
        "#### Functions"
      ],
      "metadata": {
        "id": "BmJV8y_UmGCB"
      }
    },
    {
      "cell_type": "markdown",
      "source": [
        "A **function** is a block of organized, reusable code. We use functions to bundle a set of instructions that you want to use repeatedly."
      ],
      "metadata": {
        "id": "Rc-XYPNimpdm"
      }
    },
    {
      "cell_type": "markdown",
      "source": [
        "##### <font color=\"blue\">Example 1</font>"
      ],
      "metadata": {
        "id": "Z11Ra5a0my3T"
      }
    },
    {
      "cell_type": "code",
      "source": [
        "# Example 1\n",
        "# -------\n",
        "# Let's use built-in functions\n",
        "# -------\n",
        "# YOUR CODE GOES BELOW\n",
        "# -------\n",
        "\n",
        "# The max() function will return the item with the highest value as shown\n",
        "# in the given list\n",
        "\n",
        "a = [23, 22, 55, 23, 44]\n",
        "x = max(a)\n",
        "print(x)\n",
        "\n",
        "# Using the max() function, we can return the item with the highest value alphabetically\n",
        "\n",
        "y = max([\"Joshua\", \"Grace\", \"Simon\"])\n",
        "print(y)"
      ],
      "metadata": {
        "colab": {
          "base_uri": "https://localhost:8080/"
        },
        "id": "xkhCvgF5l3OF",
        "outputId": "744ff601-6430-4340-a2af-61990caf41a5"
      },
      "execution_count": null,
      "outputs": [
        {
          "output_type": "stream",
          "name": "stdout",
          "text": [
            "55\n",
            "Simon\n"
          ]
        }
      ]
    },
    {
      "cell_type": "markdown",
      "source": [
        "**[You Can Click Here To Get A List Of Python Built-In Functions](https://www.w3schools.com/python/python_ref_functions.asp)**\n"
      ],
      "metadata": {
        "id": "HJ66MI1Suths"
      }
    },
    {
      "cell_type": "markdown",
      "source": [
        "##### <font color=\"blue\">Example 2</font>"
      ],
      "metadata": {
        "id": "KxixvDIEuOt8"
      }
    },
    {
      "cell_type": "code",
      "source": [
        "# Example 2\n",
        "# ------\n",
        "# Let's create a function to find out which of two numbers is greater than the other\n",
        "# ------\n",
        "# YOUR CODE GOES BELOW\n",
        "\n",
        "# we define it by giving it the name max_of_two\n",
        "def max_of_two():\n",
        "\n",
        "  # we then define our variables that will contain the numbers to be manipulated\n",
        "  first_number  = 10\n",
        "  second_number = 5\n",
        "\n",
        "  # then we perform our operations i.e. in this case,\n",
        "  # if first_number is greater than second_number etc.\n",
        "  if first_number > second_number:\n",
        "\n",
        "      # the return keyword allows us to provide back the result/output of our function\n",
        "    return first_number\n",
        "\n",
        "    # the return key word allows us to provide back the result/output of our function\n",
        "  return second_number\n",
        "\n",
        "# Lastly, we do the most important step; which is to call the function that\n",
        "# we have just created above. Calling allows us to use the function.\n",
        "# We have also been calling our built-in functions from the previous section.\n",
        "\n",
        "max_of_two()"
      ],
      "metadata": {
        "colab": {
          "base_uri": "https://localhost:8080/"
        },
        "id": "1b-hyK4bt3Uh",
        "outputId": "907d4992-6198-4058-8eb2-5b4cf2a18347"
      },
      "execution_count": null,
      "outputs": [
        {
          "output_type": "execute_result",
          "data": {
            "text/plain": [
              "10"
            ]
          },
          "metadata": {},
          "execution_count": 4
        }
      ]
    },
    {
      "cell_type": "markdown",
      "source": [
        "#### Data Structures"
      ],
      "metadata": {
        "id": "tGLyZzTykVyp"
      }
    },
    {
      "cell_type": "markdown",
      "source": [
        "**Data Structures** are the fundamental constructs around which you build your programs. They are a specialized means of organizing and storing data in computers in such a way that we can perform operations on the data more efficiently.\n",
        "\n",
        "- **Mutable Data Structures** are those data structures we can modify by adding, removing and making changes to their elements e.g list, dictionary, set\n",
        "- **Immutable Data Structures** are those we cannot modify after creation e.g tuple"
      ],
      "metadata": {
        "id": "EhR_IM2Aj7ov"
      }
    }
  ]
}